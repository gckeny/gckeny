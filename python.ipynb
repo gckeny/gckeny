# 类的魔法函数
- 
   - __init__
   - __getattr__
   
   - __str__
